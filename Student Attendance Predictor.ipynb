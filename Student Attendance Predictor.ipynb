{
 "cells": [
  {
   "cell_type": "markdown",
   "metadata": {},
   "source": [
    "## Project: Predicting Attendance of V sem college student\n",
    "**This project is to developed to predict wether a student would be sitting in the class or not on based of its previous attendance**\n",
    ">**Note:** Code and Markdown cells can be executed using the **Shift + Enter** keyboard shortcut. In addition, Markdown cells can be edited by typically double-clicking the cell to enter edit mode."
   ]
  },
  {
   "cell_type": "code",
   "execution_count": 21,
   "metadata": {},
   "outputs": [],
   "source": [
    "#importing some usefull and required libraries \n",
    "import numpy as np\n",
    "import pandas as pd\n",
    "from sklearn.cross_validation import ShuffleSplit\n",
    "\n",
    "#for pretty display of notebook \n",
    "%matplotlib inline\n",
    "\n",
    "#importing data for attendance prediction\n",
    "data = pd.read_excel('CSE_V_attendence.xls')\n",
    "output = data[['CS-5002_Lab','CS-5003_Lab']]\n",
    "features = data[['CS-5002_Lec','CS-5003_Lec']]"
   ]
  },
  {
   "cell_type": "code",
   "execution_count": 22,
   "metadata": {},
   "outputs": [
    {
     "name": "stdout",
     "output_type": "stream",
     "text": [
      "Min attendance CS-5002_Lab    0\n",
      "CS-5003_Lab    0\n",
      "dtype: int64\n",
      "Max attendance CS-5002_Lab    14\n",
      "CS-5003_Lab    14\n",
      "dtype: int64\n",
      "Mean attendance CS-5002_Lab    9.742857\n",
      "CS-5003_Lab    9.685714\n",
      "dtype: float64\n",
      "Median Attendance CS-5002_Lab    10.0\n",
      "CS-5003_Lab    10.0\n",
      "dtype: float64\n",
      "Std of Attendance CS-5002_Lab    3.174562\n",
      "CS-5003_Lab    2.881942\n",
      "dtype: float64\n"
     ]
    }
   ],
   "source": [
    "# predicting some stats \n",
    "\n",
    "min_attendance = output.min()\n",
    "max_attendance = output.max()\n",
    "mean_attendance = output.mean()\n",
    "median_attendance = output.median()\n",
    "std_attendance = output.std()\n",
    "\n",
    "print(\"Min attendance\",min_attendance)\n",
    "print(\"Max attendance\",max_attendance)\n",
    "print(\"Mean attendance\",mean_attendance)\n",
    "print(\"Median Attendance\",median_attendance)\n",
    "print(\"Std of Attendance\",std_attendance)"
   ]
  },
  {
   "cell_type": "code",
   "execution_count": 23,
   "metadata": {},
   "outputs": [],
   "source": [
    "# developing a performance metrics \n",
    "\n",
    "#importing the necessary r^2 lib\n",
    "from sklearn.metrics import r2_score\n",
    "\n",
    "def performance_metrics(y_true,y_predict):\n",
    "    #Calculate the performance score between 'y_true' and 'y_predict'\n",
    "    score = r2_score(y_true,y_predict)\n",
    "    #returning the score \n",
    "    return score"
   ]
  },
  {
   "cell_type": "code",
   "execution_count": 24,
   "metadata": {},
   "outputs": [
    {
     "name": "stdout",
     "output_type": "stream",
     "text": [
      "Training and testing split was successful.\n"
     ]
    }
   ],
   "source": [
    "# Shuffling and spliting of data.\n",
    "\n",
    "#importing train_test_data module \n",
    "from sklearn.cross_validation import train_test_split\n",
    "\n",
    "# Shuffle and split the data into training and testing subsets\n",
    "X_train,X_test,y_train,y_test = train_test_split(features,output,train_size=0.7,random_state = 42)\n",
    "\n",
    "#sucess\n",
    "print(\"Training and testing split was successful.\")"
   ]
  },
  {
   "cell_type": "code",
   "execution_count": 25,
   "metadata": {},
   "outputs": [
    {
     "data": {
      "text/plain": [
       "(49, 2)"
      ]
     },
     "execution_count": 25,
     "metadata": {},
     "output_type": "execute_result"
    }
   ],
   "source": [
    "X_train.shape"
   ]
  },
  {
   "cell_type": "code",
   "execution_count": 26,
   "metadata": {},
   "outputs": [],
   "source": [
    "# Model fitting and training of data for training purpose \n",
    "from sklearn.tree import DecisionTreeRegressor\n",
    "from sklearn.metrics import make_scorer\n",
    "from sklearn.grid_search import GridSearchCV\n",
    "\n",
    "#creating a fit function for training purpose\n",
    "def fit_model(X,y):\n",
    "    #create a cross_validation from training set\n",
    "    cv_set = ShuffleSplit(X.shape[0],n_iter=10,test_size=0.1,random_state=4)\n",
    "    \n",
    "    #params list\n",
    "    params = {'max_depth':list(range(1,11))}\n",
    "    \n",
    "    #creating a regressor for the prediction\n",
    "    reg = DecisionTreeRegressor()\n",
    "    \n",
    "    #making a scorer function\n",
    "    scorer_fun = make_scorer(performance_metrics)\n",
    "    \n",
    "    #creating a grid for training\n",
    "    grid = GridSearchCV(reg,param_grid=params,scoring=scorer_fun,cv=cv_set)\n",
    "    \n",
    "    #fitting the model based on grid\n",
    "    grid.fit(X,y)\n",
    "    \n",
    "    #returning the value of trained data\n",
    "    return grid.best_estimator_"
   ]
  },
  {
   "cell_type": "code",
   "execution_count": 27,
   "metadata": {},
   "outputs": [
    {
     "name": "stdout",
     "output_type": "stream",
     "text": [
      "Parameter 'max_depth' is 2 for the optimal model.\n"
     ]
    }
   ],
   "source": [
    "#fiting the value training purpose \n",
    "reg = fit_model(X_train, y_train)\n",
    "# Produce the value for 'max_depth'\n",
    "print (\"Parameter 'max_depth' is {} for the optimal model.\".format(reg.get_params()['max_depth']))"
   ]
  },
  {
   "cell_type": "code",
   "execution_count": 28,
   "metadata": {},
   "outputs": [
    {
     "name": "stdout",
     "output_type": "stream",
     "text": [
      "Predicted attendance for Student1 is [11. 10.]\n",
      "Predicted attendance for Student2 is [11. 10.]\n",
      "Predicted attendance for Student3 is [11. 10.]\n"
     ]
    }
   ],
   "source": [
    "student_data = [[20,31], # Student 1\n",
    "               [24,35], # Student 2\n",
    "               [23,33]]  # Student 3\n",
    "for i, output in enumerate(reg.predict(student_data)):\n",
    "    print (\"Predicted attendance for Student{} is {}\".format(i+1, output.round()))"
   ]
  }
 ],
 "metadata": {
  "kernelspec": {
   "display_name": "Python 3",
   "language": "python",
   "name": "python3"
  },
  "language_info": {
   "codemirror_mode": {
    "name": "ipython",
    "version": 3
   },
   "file_extension": ".py",
   "mimetype": "text/x-python",
   "name": "python",
   "nbconvert_exporter": "python",
   "pygments_lexer": "ipython3",
   "version": "3.6.4"
  }
 },
 "nbformat": 4,
 "nbformat_minor": 2
}
